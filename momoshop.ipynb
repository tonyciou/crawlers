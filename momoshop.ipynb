{
 "cells": [
  {
   "cell_type": "code",
   "execution_count": 1,
   "metadata": {
    "collapsed": true
   },
   "outputs": [],
   "source": [
    "import requests, json, time, lxml.html as lh, pandas as pd\n",
    "from IPython.core.display import HTML\n",
    "timestamp = int(round(time.time() * 1000))\n",
    "k = '米森 蔓越莓麥片'\n",
    "html = lh.fromstring(k)\n",
    "unicodeK = lh.tostring(html).decode(\"utf-8\")\n",
    "unicodeK = unicodeK.lstrip('<p>')\n",
    "unicodeK = unicodeK.rstrip('</p>')"
   ]
  },
  {
   "cell_type": "code",
   "execution_count": 2,
   "metadata": {
    "collapsed": true
   },
   "outputs": [],
   "source": [
    "headers = requests.utils.default_headers()\n",
    "s = requests.Session()\n",
    "headers = {'user-agent': 'Mozilla/5.0 (X11; Linux x86_64) AppleWebKit/537.36 (KHTML, like Gecko) Chrome/45.0.2454.101 Safari/537.36'}\n",
    "s.headers.update(headers)\n",
    "payload = {\n",
    "    'keyword': k,\n",
    "    'searchType': '2',\n",
    "    'curPage=1': '1'\n",
    "}\n",
    "r = s.get('https://www.momoshop.com.tw/search/searchShop.jsp', params=payload)"
   ]
  },
  {
   "cell_type": "code",
   "execution_count": 3,
   "metadata": {
    "collapsed": true
   },
   "outputs": [],
   "source": [
    "r.raise_for_status()"
   ]
  },
  {
   "cell_type": "code",
   "execution_count": 4,
   "metadata": {
    "collapsed": true
   },
   "outputs": [],
   "source": [
    "cookies = s.cookies.get_dict()"
   ]
  },
  {
   "cell_type": "code",
   "execution_count": 5,
   "metadata": {
    "collapsed": true
   },
   "outputs": [],
   "source": [
    "headers['host'] = 'www.momoshop.com.tw';\n",
    "headers['origin'] = 'https://www.momoshop.com.tw'\n",
    "headers['DNT'] = '1'\n",
    "headers['X-Requested-With'] = 'XMLHttpRequest'\n",
    "headers['Referer'] = r.url\n",
    "headers['content-type'] = 'application/x-www-form-urlencoded'\n",
    "s.headers.update(headers)"
   ]
  },
  {
   "cell_type": "code",
   "execution_count": 6,
   "metadata": {
    "collapsed": true
   },
   "outputs": [],
   "source": [
    "data = {\n",
    "  \"flag\": 2018,\n",
    "  \"data\": {\n",
    "    \"searchValue\": unicodeK,\n",
    "    \"cateCode\": \"\",\n",
    "    \"cateLevel\": \"-1\",\n",
    "    \"cp\": \"N\",\n",
    "    \"NAM\": \"N\",\n",
    "    \"normal\": \"N\",\n",
    "    \"first\": \"N\",\n",
    "    \"superstore\": \"N\",\n",
    "    \"curPage\": \"1\",\n",
    "    \"priceS\": \"0\",\n",
    "    \"priceE\": \"9999999\",\n",
    "    \"searchType\": \"2\",\n",
    "    \"reduceKeyword\": \"\",\n",
    "    \"isFuzzy\": \"0\",\n",
    "    \"specialGoodsType\": \"\",\n",
    "    \"rtnCateDatainfo\": {\n",
    "      \"cateCode\": \"\",\n",
    "      \"cateLv\": \"-1\",\n",
    "      \"curPage\": \"1\",\n",
    "      \"historyDoPush\": \"true\",\n",
    "      \"timestamp\": timestamp\n",
    "    }\n",
    "  }\n",
    "}\n",
    "data = {\"data\": str(data)}"
   ]
  },
  {
   "cell_type": "code",
   "execution_count": 7,
   "metadata": {
    "collapsed": true
   },
   "outputs": [],
   "source": [
    "res1 = s.post(\"https://www.momoshop.com.tw/ajax/ajaxTool.jsp?t=1507641784805\", data=data, cookies=cookies)"
   ]
  },
  {
   "cell_type": "code",
   "execution_count": 8,
   "metadata": {
    "collapsed": true
   },
   "outputs": [],
   "source": [
    "prods = json.loads(res1.text.strip())['rtnData']['searchResult']['rtnSearchData']['goodsInfoList']"
   ]
  },
  {
   "cell_type": "code",
   "execution_count": 9,
   "metadata": {
    "collapsed": true
   },
   "outputs": [],
   "source": [
    "def pickFields(p):\n",
    "    return {\n",
    "        'name': p['goodsName'],\n",
    "        'price': p['SALE_PRICE'],\n",
    "    }"
   ]
  },
  {
   "cell_type": "code",
   "execution_count": 10,
   "metadata": {
    "collapsed": true
   },
   "outputs": [],
   "source": [
    "prods = list(map(pickFields, prods))"
   ]
  },
  {
   "cell_type": "code",
   "execution_count": 11,
   "metadata": {},
   "outputs": [
    {
     "data": {
      "text/html": [
       "<div>\n",
       "<style>\n",
       "    .dataframe thead tr:only-child th {\n",
       "        text-align: right;\n",
       "    }\n",
       "\n",
       "    .dataframe thead th {\n",
       "        text-align: left;\n",
       "    }\n",
       "\n",
       "    .dataframe tbody tr th {\n",
       "        vertical-align: top;\n",
       "    }\n",
       "</style>\n",
       "<table border=\"1\" class=\"dataframe\">\n",
       "  <thead>\n",
       "    <tr style=\"text-align: right;\">\n",
       "      <th></th>\n",
       "      <th>name</th>\n",
       "      <th>price</th>\n",
       "    </tr>\n",
       "  </thead>\n",
       "  <tbody>\n",
       "    <tr>\n",
       "      <th>0</th>\n",
       "      <td>【米森Vilson】有機核桃蔓越莓麥片(450g)</td>\n",
       "      <td>225</td>\n",
       "    </tr>\n",
       "    <tr>\n",
       "      <th>1</th>\n",
       "      <td>【米森】有機核桃蔓越莓麥片6盒組(450g/盒)</td>\n",
       "      <td>1350</td>\n",
       "    </tr>\n",
       "  </tbody>\n",
       "</table>\n",
       "</div>"
      ],
      "text/plain": [
       "                        name price\n",
       "0  【米森Vilson】有機核桃蔓越莓麥片(450g)   225\n",
       "1   【米森】有機核桃蔓越莓麥片6盒組(450g/盒)  1350"
      ]
     },
     "execution_count": 11,
     "metadata": {},
     "output_type": "execute_result"
    }
   ],
   "source": [
    "df = pd.DataFrame(prods)\n",
    "df"
   ]
  }
 ],
 "metadata": {
  "kernelspec": {
   "display_name": "Python 3",
   "language": "python",
   "name": "python3"
  },
  "language_info": {
   "codemirror_mode": {
    "name": "ipython",
    "version": 3
   },
   "file_extension": ".py",
   "mimetype": "text/x-python",
   "name": "python",
   "nbconvert_exporter": "python",
   "pygments_lexer": "ipython3",
   "version": "3.6.2"
  }
 },
 "nbformat": 4,
 "nbformat_minor": 2
}
